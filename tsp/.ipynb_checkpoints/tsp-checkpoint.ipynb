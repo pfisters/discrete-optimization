{
 "cells": [
  {
   "cell_type": "code",
   "execution_count": 1,
   "metadata": {},
   "outputs": [],
   "source": [
    "import math\n",
    "from itertools import combinations, product\n",
    "\n",
    "file_location = './data/tsp_100_3'"
   ]
  },
  {
   "cell_type": "code",
   "execution_count": 2,
   "metadata": {},
   "outputs": [
    {
     "name": "stdout",
     "output_type": "stream",
     "text": [
      "100\n"
     ]
    }
   ],
   "source": [
    "import sys\n",
    "# helper function to read the input data\n",
    "def read_input(input_data):\n",
    "    lines = input_data.split('\\n')\n",
    "\n",
    "    nodeCount = int(lines[0])\n",
    "\n",
    "    points = []\n",
    "    for i in range(1, nodeCount+1):\n",
    "        line = lines[i]\n",
    "        parts = line.split()\n",
    "        points.append((float(parts[0]), float(parts[1])))\n",
    "    \n",
    "    return points, nodeCount\n",
    "\n",
    "input_data = None\n",
    "with open(file_location, 'r') as input_data_file:\n",
    "    input_data = input_data_file.read()\n",
    "\n",
    "points, nodeCount = read_input(input_data)\n",
    "print(nodeCount)"
   ]
  },
  {
   "cell_type": "code",
   "execution_count": 3,
   "metadata": {},
   "outputs": [],
   "source": [
    "def distance(point1, point2):\n",
    "    dims = len(point1)\n",
    "    return math.sqrt(sum((point1[k] - point2[k])**2 for k in range(dims)))"
   ]
  },
  {
   "cell_type": "code",
   "execution_count": 4,
   "metadata": {},
   "outputs": [],
   "source": [
    "# helper function to determine the distance between two points\n",
    "dist = {(i, j):\n",
    "        math.sqrt(sum((points[i][k]-points[j][k])**2 for k in range(2)))\n",
    "        for i in range(nodeCount) for j in range(i)}"
   ]
  },
  {
   "cell_type": "code",
   "execution_count": 5,
   "metadata": {},
   "outputs": [],
   "source": [
    "def subtourelim(model, where):\n",
    "    if where == GRB.Callback.MIPSOL:\n",
    "        # make a list of edges selected in the solution\n",
    "        vals = model.cbGetSolution(model._vars)\n",
    "        selected = gp.tuplelist((i, j) for i, j in model._vars.keys()\n",
    "                                if vals[i, j] > 0.5)\n",
    "        # find the shortest cycle in the selected edge list\n",
    "        tour = subtour(selected)\n",
    "        if len(tour) < nodeCount:\n",
    "            # add subtour elimination constr. for every pair of cities in tour\n",
    "            model.cbLazy(gp.quicksum(model._vars[i, j]\n",
    "                                     for i, j in combinations(tour, 2))\n",
    "                         <= len(tour)-1)"
   ]
  },
  {
   "cell_type": "code",
   "execution_count": 6,
   "metadata": {},
   "outputs": [],
   "source": [
    "def subtour(edges):\n",
    "    unvisited = list(range(nodeCount))\n",
    "    cycle = range(nodeCount+1)  # initial length has 1 more city\n",
    "    while unvisited:  # true if list is non-empty\n",
    "        thiscycle = []\n",
    "        neighbors = unvisited\n",
    "        while neighbors:\n",
    "            current = neighbors[0]\n",
    "            thiscycle.append(current)\n",
    "            unvisited.remove(current)\n",
    "            neighbors = [j for i, j in edges.select(current, '*')\n",
    "                         if j in unvisited]\n",
    "        if len(cycle) > len(thiscycle):\n",
    "            cycle = thiscycle\n",
    "    return cycle"
   ]
  },
  {
   "cell_type": "code",
   "execution_count": 7,
   "metadata": {},
   "outputs": [],
   "source": [
    "import gurobipy as gp\n",
    "from gurobipy import GRB\n",
    "\n",
    "def solve_it(input_data):\n",
    "    # define model\n",
    "    m = gp.Model()\n",
    "    # add variables\n",
    "    vars = m.addVars(dist.keys(), obj=dist, vtype=GRB.BINARY, name='e')\n",
    "    # add constraints : adjacency\n",
    "    for i, j in vars.keys():\n",
    "        vars[j, i] = vars[i, j]  # edge in opposite direction\n",
    "    # add constraints: every point has two adjacent points\n",
    "    m.addConstrs(vars.sum(i, '*') == 2 for i in range(nodeCount))\n",
    "    m._vars = vars\n",
    "    m.Params.lazyConstraints = 1\n",
    "    m.optimize(subtourelim)\n",
    "    \n",
    "    # retrieve solution\n",
    "    vals = m.getAttr('x', vars)\n",
    "    selected = gp.tuplelist((i, j) for i, j in vals.keys() if vals[i, j] > 0.5)\n",
    "\n",
    "    solution = subtour(selected)\n",
    "    \n",
    "    print(\"Solution: \", solution)\n",
    "    \n",
    "    # calculate the length of the tour\n",
    "    obj = m.objVal\n",
    "\n",
    "    # prepare the solution in the specified output format\n",
    "    output_data = '%.2f' % obj + ' ' + str(0) + '\\n'\n",
    "    output_data += ' '.join(map(str, solution))\n",
    "\n",
    "    return output_data"
   ]
  },
  {
   "cell_type": "code",
   "execution_count": 8,
   "metadata": {},
   "outputs": [
    {
     "name": "stdout",
     "output_type": "stream",
     "text": [
      "Using license file /Users/severinpfister/gurobi.lic\n",
      "Academic license - for non-commercial use only\n",
      "Changed value of parameter lazyConstraints to 1\n",
      "   Prev: 0  Min: 0  Max: 1  Default: 0\n",
      "Gurobi Optimizer version 9.0.2 build v9.0.2rc0 (mac64)\n",
      "Optimize a model with 100 rows, 4950 columns and 9900 nonzeros\n",
      "Model fingerprint: 0xd8cc650c\n",
      "Variable types: 0 continuous, 4950 integer (4950 binary)\n",
      "Coefficient statistics:\n",
      "  Matrix range     [1e+00, 1e+00]\n",
      "  Objective range  [2e+01, 4e+03]\n",
      "  Bounds range     [1e+00, 1e+00]\n",
      "  RHS range        [2e+00, 2e+00]\n",
      "Presolve time: 0.01s\n",
      "Presolved: 100 rows, 4950 columns, 9900 nonzeros\n",
      "Variable types: 0 continuous, 4950 integer (4950 binary)\n",
      "\n",
      "Root relaxation: objective 1.970326e+04, 152 iterations, 0.00 seconds\n",
      "\n",
      "    Nodes    |    Current Node    |     Objective Bounds      |     Work\n",
      " Expl Unexpl |  Obj  Depth IntInf | Incumbent    BestBd   Gap | It/Node Time\n",
      "\n",
      "     0     0 19703.2605    0   12          - 19703.2605      -     -    0s\n",
      "     0     0 19880.2210    0   18          - 19880.2210      -     -    0s\n",
      "     0     0 19921.6562    0   17          - 19921.6562      -     -    0s\n",
      "     0     0 19934.2698    0    6          - 19934.2698      -     -    0s\n",
      "     0     0 19935.9787    0   10          - 19935.9787      -     -    0s\n",
      "     0     0 19935.9787    0   10          - 19935.9787      -     -    0s\n",
      "     0     2 19935.9787    0   10          - 19935.9787      -     -    0s\n",
      "* 1234  1080              11    20750.762504 20750.7625  0.00%   4.4    1s\n",
      "\n",
      "Cutting planes:\n",
      "  Gomory: 10\n",
      "  Flow cover: 2\n",
      "  Zero half: 10\n",
      "  Lazy constraints: 10\n",
      "\n",
      "Explored 1238 nodes (5728 simplex iterations) in 1.52 seconds\n",
      "Thread count was 8 (of 8 available processors)\n",
      "\n",
      "Solution count 1: 20750.8 \n",
      "\n",
      "Optimal solution found (tolerance 1.00e-04)\n",
      "Best objective 2.075076250369e+04, best bound 2.075076250369e+04, gap 0.0000%\n",
      "\n",
      "User-callback calls 3077, time in user-callback 0.43 sec\n",
      "Solution:  [0, 12, 93, 15, 97, 33, 60, 1, 36, 45, 46, 30, 94, 82, 49, 23, 6, 85, 63, 59, 41, 68, 48, 42, 53, 9, 18, 52, 22, 8, 90, 38, 70, 72, 19, 25, 40, 43, 44, 99, 11, 32, 21, 35, 54, 92, 5, 20, 87, 88, 77, 37, 47, 7, 83, 39, 74, 66, 57, 71, 24, 55, 3, 51, 84, 17, 79, 26, 29, 14, 80, 96, 16, 4, 91, 69, 13, 28, 62, 64, 76, 34, 50, 2, 89, 61, 98, 67, 78, 95, 73, 81, 10, 75, 56, 31, 27, 58, 86, 65]\n",
      "20750.76 0\n",
      "0 12 93 15 97 33 60 1 36 45 46 30 94 82 49 23 6 85 63 59 41 68 48 42 53 9 18 52 22 8 90 38 70 72 19 25 40 43 44 99 11 32 21 35 54 92 5 20 87 88 77 37 47 7 83 39 74 66 57 71 24 55 3 51 84 17 79 26 29 14 80 96 16 4 91 69 13 28 62 64 76 34 50 2 89 61 98 67 78 95 73 81 10 75 56 31 27 58 86 65\n"
     ]
    }
   ],
   "source": [
    "print(solve_it(input_data))"
   ]
  },
  {
   "cell_type": "code",
   "execution_count": null,
   "metadata": {},
   "outputs": [],
   "source": []
  }
 ],
 "metadata": {
  "kernelspec": {
   "display_name": "Python 3",
   "language": "python",
   "name": "python3"
  },
  "language_info": {
   "codemirror_mode": {
    "name": "ipython",
    "version": 3
   },
   "file_extension": ".py",
   "mimetype": "text/x-python",
   "name": "python",
   "nbconvert_exporter": "python",
   "pygments_lexer": "ipython3",
   "version": "3.7.4"
  }
 },
 "nbformat": 4,
 "nbformat_minor": 2
}
